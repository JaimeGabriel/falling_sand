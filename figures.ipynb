{
 "cells": [
  {
   "cell_type": "code",
   "execution_count": 150,
   "metadata": {},
   "outputs": [],
   "source": [
    "import numpy as np\n",
    "import matplotlib.pyplot as plt\n",
    "import matplotlib.colors as mcolors"
   ]
  },
  {
   "cell_type": "code",
   "execution_count": 151,
   "metadata": {},
   "outputs": [],
   "source": [
    "BLACK = (0, 0, 0)\n",
    "SAND = (194, 178, 128)\n",
    "RED = (255, 0, 0)\n",
    "WATER = (0, 0, 255)\n",
    "ROCK = (128, 128, 128)\n",
    "WHITE = (255, 255, 255)\n",
    "\n",
    "n = 2 # Rows of the matrix\n",
    "m = 3 # Columns of the matrix"
   ]
  },
  {
   "cell_type": "code",
   "execution_count": 152,
   "metadata": {},
   "outputs": [],
   "source": [
    "def move(matrix):\n",
    "    matrix_out = np.copy(matrix)\n",
    "    n, m = matrix.shape\n",
    "    for i in range(n-1, -1, -1):\n",
    "            for j in range(m):\n",
    "                if matrix_out[i, j] == 1: # Sand\n",
    "                    if i < n-1: # The cell is not at the bottom border\n",
    "                        if matrix_out[i+1, j] == 0: # Bottom free\n",
    "                            matrix_out[i, j] = 0\n",
    "                            matrix_out[i+1, j] = 1\n",
    "\n",
    "                        elif j > 0 and matrix_out[i+1, j-1] == 0: # Botton left free\n",
    "                            matrix_out[i, j] = 0\n",
    "                            matrix_out[i+1, j-1] = 1\n",
    "\n",
    "                        elif j < m-1 and matrix_out[i+1, j+1] == 0: # Bottom right free\n",
    "                            matrix_out[i, j] = 0\n",
    "                            matrix_out[i+1, j+1] = 1\n",
    "\n",
    "                        # Interaction with water\n",
    "                        elif matrix_out[i+1, j] == 2: # Bottom free\n",
    "                            matrix_out[i, j] = 2\n",
    "                            matrix_out[i+1, j] = 1\n",
    "\n",
    "\n",
    "                if matrix_out[i, j] == 2: # Water\n",
    "                    if i < n-1: # The cell is not at the bottom border\n",
    "                        if matrix_out[i+1, j] == 0: # Bottom free \n",
    "                            matrix_out[i, j] = 0\n",
    "                            matrix_out[i+1, j] = 2\n",
    "\n",
    "                        elif j > 0 and matrix_out[i+1, j-1] == 0: # Bottom left free\n",
    "                            matrix_out[i, j] = 0\n",
    "                            matrix_out[i+1, j-1] = 2\n",
    "\n",
    "                        elif j < m-1 and matrix_out[i+1, j+1] == 0: # Botton right free\n",
    "                            matrix_out[i, j] = 0\n",
    "                            matrix_out[i+1, j+1] = 2\n",
    "\n",
    "                        elif j > 0 and j < m-1 and matrix_out[i, j-1] == 0 and matrix_out[i, j+1] == 0: # Bottom occupied and both sides free\n",
    "                            matrix_out[i, j] = 0\n",
    "                            rand = np.random.choice([1, -1])\n",
    "                            matrix_out[i, j+rand] = 2\n",
    "\n",
    "                        elif j > 0 and j < m-1 and matrix_out[i, j+1] == 0: # Bottom occupied and right free\n",
    "                            matrix_out[i, j] = 0\n",
    "                            matrix_out[i, j+1] = 2\n",
    "\n",
    "                        elif j > 0 and j < m-1 and matrix_out[i, j-1] == 0: # Bottom occupied and left free\n",
    "                            matrix_out[i, j] = 0\n",
    "                            matrix_out[i, j-1] = 2\n",
    "    return matrix_out"
   ]
  },
  {
   "cell_type": "code",
   "execution_count": 153,
   "metadata": {},
   "outputs": [],
   "source": [
    "def plot_matrix(matrix):\n",
    "    # Define los colores en formato RGB\n",
    "    sand_color = (194/255, 178/255, 128/255)  # Color arena\n",
    "    water_color = (0, 0, 255/255)  # Color agua (azul)\n",
    "    rock_color = (128/255, 128/255, 128/255) # Color roca\n",
    "\n",
    "\n",
    "    # Define los límites de los valores en la escala de color\n",
    "    bounds = [0, 1, 2, 3, 4]\n",
    "\n",
    "    # Crea un mapa de colores personalizado\n",
    "    cmap = mcolors.LinearSegmentedColormap.from_list('custom_colors', [(0, 0, 0), sand_color, water_color, rock_color], N=4)\n",
    "\n",
    "    # Normaliza los valores\n",
    "    norm = mcolors.BoundaryNorm(bounds, cmap.N)\n",
    "\n",
    "    # Grafica la matriz\n",
    "    fig = plt.matshow(matrix, cmap=cmap, norm=norm, interpolation='nearest')\n",
    "    plt.axis('off')  # Elimina los ticks de los ejes\n",
    "    plt.close()\n",
    "\n",
    "    return fig"
   ]
  },
  {
   "cell_type": "code",
   "execution_count": 154,
   "metadata": {},
   "outputs": [],
   "source": [
    "def highlight_cell(x,y, ax=None, **kwargs): # https://stackoverflow.com/questions/56654952/how-to-draw-cell-borders-in-imshow\n",
    "    rect = plt.Rectangle((x-.5, y-.5), 1,1, fill=False, **kwargs)\n",
    "    ax = ax or plt.gca()\n",
    "    ax.add_patch(rect)\n",
    "    return rect"
   ]
  },
  {
   "cell_type": "code",
   "execution_count": 155,
   "metadata": {},
   "outputs": [
    {
     "data": {
      "image/png": "[encoded data removed]",
      "text/plain": [
       "<Figure size 640x480 with 1 Axes>"
      ]
     },
     "metadata": {},
     "output_type": "display_data"
    }
   ],
   "source": [
    "matrix = np.array(\n",
    "    [\n",
    "    [0., 0., 0., 0., 0., 0., 0., 0., 0.],\n",
    "    [0., 0., 0., 0., 0., 0., 0., 0., 0.],\n",
    "    [0., 0., 2., 0., 0., 0., 2., 0., 0.],\n",
    "    [0., 0., 2., 0., 0., 0., 2., 0., 0.],\n",
    "    [0., 0., 0., 0., 3., 0., 0., 0., 0.],\n",
    "    [0., 0., 0., 0., 3., 0., 0., 0., 0.],\n",
    "    [0., 1., 0., 0., 0., 0., 0., 1., 0.],\n",
    "    [0., 1., 1., 1., 1., 1., 1., 1., 0.],\n",
    "    [0., 0., 0., 0., 0., 0., 0., 0., 0.],\n",
    "    [0., 0., 0., 0., 0., 0., 0., 0., 0.]\n",
    "    ]\n",
    "    )\n",
    "plot_matrix(matrix)\n",
    "for i in range(matrix.shape[1]):\n",
    "    for j in range(matrix.shape[0]):\n",
    "        highlight_cell(i,j, color=\"white\", linewidth=1)\n",
    "plt.savefig(\"Graphics/grid.pdf\", bbox_inches = 'tight')"
   ]
  },
  {
   "cell_type": "code",
   "execution_count": 156,
   "metadata": {},
   "outputs": [],
   "source": [
    "def plot_side_by_side(fig1, fig2,title1='', title2=''):\n",
    "    # Crea una nueva figura con subfiguras\n",
    "    fig, axs = plt.subplots(1, 2)\n",
    "\n",
    "    # Ajusta el espaciado entre las subfiguras\n",
    "    plt.subplots_adjust(wspace=1)\n",
    "\n",
    "    # Añade las imágenes existentes a las subfiguras\n",
    "    axs[0].axis('off')  # Desactiva los ejes para evitar superposiciones\n",
    "    axs[1].axis('off')  # Desactiva los ejes para evitar superposiciones\n",
    "\n",
    "    # Añade la imagen de la primera gráfica a la primera subfigura\n",
    "    axs[0].imshow(fig1.get_array(), cmap=fig1.get_cmap(), norm=fig1.norm)\n",
    "    axs[0].set_title(title1)\n",
    "\n",
    "    # Añade la imagen de la segunda gráfica a la segunda subfigura\n",
    "    axs[1].imshow(fig2.get_array(), cmap=fig2.get_cmap(), norm=fig2.norm)\n",
    "    axs[1].set_title(title2)\n",
    "\n",
    "    \n",
    "\n",
    "    return fig"
   ]
  },
  {
   "cell_type": "code",
   "execution_count": 157,
   "metadata": {},
   "outputs": [
    {
     "data": {
      "image/png": "[encoded data removed]",
      "text/plain": [
       "<Figure size 640x480 with 2 Axes>"
      ]
     },
     "metadata": {},
     "output_type": "display_data"
    }
   ],
   "source": [
    "matrix = np.zeros((n, m))\n",
    "entrada = matrix\n",
    "entrada[0, 1] = 1\n",
    "salida = move(entrada)\n",
    "salida_plot = plot_matrix(salida)\n",
    "entrada_plot = plot_matrix(entrada)\n",
    "entrada_salida = plot_side_by_side(entrada_plot, salida_plot)\n",
    "\n",
    "plt.savefig('Graphics/sand1.pdf', bbox_inches = 'tight')\n",
    "\n"
   ]
  },
  {
   "cell_type": "code",
   "execution_count": 158,
   "metadata": {},
   "outputs": [
    {
     "data": {
      "image/png": "[encoded data removed]",
      "text/plain": [
       "<Figure size 640x480 with 2 Axes>"
      ]
     },
     "metadata": {},
     "output_type": "display_data"
    }
   ],
   "source": [
    "matrix = np.zeros((n, m))\n",
    "entrada = matrix\n",
    "entrada[0, 1] = 1\n",
    "entrada[1, 1] = 1\n",
    "salida = move(entrada)\n",
    "salida_plot = plot_matrix(salida)\n",
    "entrada_plot = plot_matrix(entrada)\n",
    "entrada_salida = plot_side_by_side(entrada_plot, salida_plot)\n",
    "plt.savefig('Graphics/sand2.pdf', bbox_inches = 'tight')"
   ]
  },
  {
   "cell_type": "code",
   "execution_count": 159,
   "metadata": {},
   "outputs": [
    {
     "data": {
      "image/png": "[encoded data removed]",
      "text/plain": [
       "<Figure size 640x480 with 2 Axes>"
      ]
     },
     "metadata": {},
     "output_type": "display_data"
    }
   ],
   "source": [
    "matrix = np.zeros((n, m))\n",
    "entrada = matrix\n",
    "entrada[0, 1] = 1\n",
    "entrada[1, 1] = 1\n",
    "entrada[1, 0] = 1\n",
    "salida = move(entrada)\n",
    "salida_plot = plot_matrix(salida)\n",
    "entrada_plot = plot_matrix(entrada)\n",
    "entrada_salida = plot_side_by_side(entrada_plot, salida_plot)\n",
    "plt.savefig('Graphics/sand3.pdf', bbox_inches = 'tight')"
   ]
  },
  {
   "cell_type": "code",
   "execution_count": 160,
   "metadata": {},
   "outputs": [
    {
     "data": {
      "image/png": "[encoded data removed]",
      "text/plain": [
       "<Figure size 640x480 with 2 Axes>"
      ]
     },
     "metadata": {},
     "output_type": "display_data"
    }
   ],
   "source": [
    "matrix = np.zeros((n, m))\n",
    "entrada = matrix\n",
    "entrada[0, 1] = 1\n",
    "entrada[1, 1] = 1\n",
    "entrada[1, 0] = 1\n",
    "entrada[1, 2] = 1\n",
    "salida = move(entrada)\n",
    "salida_plot = plot_matrix(salida)\n",
    "entrada_plot = plot_matrix(entrada)\n",
    "entrada_salida = plot_side_by_side(entrada_plot, salida_plot)\n",
    "plt.savefig('Graphics/sand4.pdf', bbox_inches = 'tight')"
   ]
  },
  {
   "cell_type": "code",
   "execution_count": 161,
   "metadata": {},
   "outputs": [
    {
     "data": {
      "image/png": "[encoded data removed]",
      "text/plain": [
       "<Figure size 640x480 with 2 Axes>"
      ]
     },
     "metadata": {},
     "output_type": "display_data"
    }
   ],
   "source": [
    "matrix = np.zeros((n, m))\n",
    "entrada = matrix\n",
    "entrada[0, 1] = 2\n",
    "salida = move(entrada)\n",
    "salida_plot = plot_matrix(salida)\n",
    "entrada_plot = plot_matrix(entrada)\n",
    "entrada_salida = plot_side_by_side(entrada_plot, salida_plot)\n",
    "plt.savefig('Graphics/water1.pdf', bbox_inches = 'tight')\n",
    "\n"
   ]
  },
  {
   "cell_type": "code",
   "execution_count": 162,
   "metadata": {},
   "outputs": [
    {
     "data": {
      "image/png": "[encoded data removed]",
      "text/plain": [
       "<Figure size 640x480 with 2 Axes>"
      ]
     },
     "metadata": {},
     "output_type": "display_data"
    }
   ],
   "source": [
    "matrix = np.zeros((n, m))\n",
    "entrada = matrix\n",
    "entrada[0, 1] = 2\n",
    "entrada[1, 1] = 2\n",
    "salida = move(entrada)\n",
    "salida_plot = plot_matrix(salida)\n",
    "entrada_plot = plot_matrix(entrada)\n",
    "entrada_salida = plot_side_by_side(entrada_plot, salida_plot)\n",
    "plt.savefig('Graphics/water2.pdf', bbox_inches = 'tight')"
   ]
  },
  {
   "cell_type": "code",
   "execution_count": 163,
   "metadata": {},
   "outputs": [
    {
     "data": {
      "image/png": "[encoded data removed]",
      "text/plain": [
       "<Figure size 640x480 with 2 Axes>"
      ]
     },
     "metadata": {},
     "output_type": "display_data"
    }
   ],
   "source": [
    "matrix = np.zeros((n, m))\n",
    "entrada = matrix\n",
    "entrada[0, 1] = 2\n",
    "entrada[1, 1] = 2\n",
    "entrada[1, 0] = 2\n",
    "salida = move(entrada)\n",
    "salida_plot = plot_matrix(salida)\n",
    "entrada_plot = plot_matrix(entrada)\n",
    "entrada_salida = plot_side_by_side(entrada_plot, salida_plot)\n",
    "plt.savefig('Graphics/water3.pdf', bbox_inches = 'tight')"
   ]
  },
  {
   "cell_type": "code",
   "execution_count": 164,
   "metadata": {},
   "outputs": [
    {
     "data": {
      "image/png": "[encoded data removed]",
      "text/plain": [
       "<Figure size 640x480 with 2 Axes>"
      ]
     },
     "metadata": {},
     "output_type": "display_data"
    }
   ],
   "source": [
    "matrix = np.zeros((n, m))\n",
    "entrada = matrix\n",
    "entrada[0, 1] = 2\n",
    "entrada[1, 1] = 2\n",
    "entrada[1, 0] = 2\n",
    "entrada[1, 2] = 2\n",
    "salida = move(entrada)\n",
    "salida_plot = plot_matrix(salida)\n",
    "entrada_plot = plot_matrix(entrada)\n",
    "entrada_salida = plot_side_by_side(entrada_plot, salida_plot)\n",
    "plt.savefig('Graphics/water4.pdf', bbox_inches = 'tight')"
   ]
  },
  {
   "cell_type": "code",
   "execution_count": 165,
   "metadata": {},
   "outputs": [
    {
     "data": {
      "image/png": "[encoded data removed]",
      "text/plain": [
       "<Figure size 640x480 with 2 Axes>"
      ]
     },
     "metadata": {},
     "output_type": "display_data"
    }
   ],
   "source": [
    "matrix = np.zeros((n, m))\n",
    "entrada = matrix\n",
    "entrada[0, 1] = 2\n",
    "entrada[1, 1] = 2\n",
    "entrada[1, 0] = 2\n",
    "entrada[1, 2] = 2\n",
    "entrada[0, 0] = 2\n",
    "salida = move(entrada)\n",
    "salida_plot = plot_matrix(salida)\n",
    "entrada_plot = plot_matrix(entrada)\n",
    "entrada_salida = plot_side_by_side(entrada_plot, salida_plot)\n",
    "plt.savefig('Graphics/water5.pdf', bbox_inches = 'tight')"
   ]
  },
  {
   "cell_type": "code",
   "execution_count": 178,
   "metadata": {},
   "outputs": [
    {
     "data": {
      "image/png": "[encoded data removed]",
      "text/plain": [
       "<Figure size 640x480 with 2 Axes>"
      ]
     },
     "metadata": {},
     "output_type": "display_data"
    }
   ],
   "source": [
    "matrix = np.zeros((n, m))\n",
    "entrada = matrix\n",
    "entrada[0, 1] = 2\n",
    "entrada[1, 1] = 2\n",
    "entrada[1, 0] = 2\n",
    "entrada[1, 2] = 2\n",
    "entrada[0, 2] = 2\n",
    "salida = move(entrada)\n",
    "salida_plot = plot_matrix(salida)\n",
    "entrada_plot = plot_matrix(entrada)\n",
    "entrada_salida = plot_side_by_side(entrada_plot, salida_plot)\n",
    "plt.savefig('Graphics/water6.pdf', bbox_inches = 'tight')"
   ]
  },
  {
   "cell_type": "code",
   "execution_count": 167,
   "metadata": {},
   "outputs": [
    {
     "data": {
      "image/png": "[encoded data removed]",
      "text/plain": [
       "<Figure size 640x480 with 2 Axes>"
      ]
     },
     "metadata": {},
     "output_type": "display_data"
    }
   ],
   "source": [
    "matrix = np.zeros((n, m))\n",
    "entrada = matrix\n",
    "entrada[0, 1] = 1\n",
    "entrada[1, 1] = 2\n",
    "entrada[1, 0] = 1\n",
    "entrada[1, 2] = 1\n",
    "salida = move(entrada)\n",
    "salida_plot = plot_matrix(salida)\n",
    "entrada_plot = plot_matrix(entrada)\n",
    "entrada_salida = plot_side_by_side(entrada_plot, salida_plot)\n",
    "plt.savefig('Graphics/water7.pdf', bbox_inches = 'tight')"
   ]
  },
  {
   "cell_type": "code",
   "execution_count": 168,
   "metadata": {},
   "outputs": [
    {
     "data": {
      "image/png": "[encoded data removed]",
      "text/plain": [
       "<Figure size 640x480 with 2 Axes>"
      ]
     },
     "metadata": {},
     "output_type": "display_data"
    }
   ],
   "source": [
    "matrix = np.zeros((n, m))\n",
    "entrada = matrix\n",
    "entrada[0, 1] = 1\n",
    "salida = move(entrada)\n",
    "salida_plot = plot_matrix(salida)\n",
    "entrada_plot = plot_matrix(entrada)\n",
    "entrada_salida = plot_side_by_side(entrada_plot, salida_plot)\n",
    "plt.savefig('Graphics/sand1.pdf', bbox_inches = 'tight')\n",
    "\n"
   ]
  },
  {
   "cell_type": "code",
   "execution_count": 169,
   "metadata": {},
   "outputs": [
    {
     "data": {
      "image/png": "[encoded data removed]",
      "text/plain": [
       "<Figure size 640x480 with 2 Axes>"
      ]
     },
     "metadata": {},
     "output_type": "display_data"
    }
   ],
   "source": [
    "matrix = np.zeros((n, m))\n",
    "entrada = matrix\n",
    "entrada[0, 1] = 1\n",
    "salida = move(entrada)\n",
    "salida_plot = plot_matrix(salida)\n",
    "entrada_plot = plot_matrix(entrada)\n",
    "entrada_salida = plot_side_by_side(entrada_plot, salida_plot)\n",
    "plt.savefig('Graphics/sand1.pdf', bbox_inches = 'tight')\n",
    "\n"
   ]
  },
  {
   "cell_type": "code",
   "execution_count": 170,
   "metadata": {},
   "outputs": [
    {
     "data": {
      "image/png": "[encoded data removed]",
      "text/plain": [
       "<Figure size 640x480 with 2 Axes>"
      ]
     },
     "metadata": {},
     "output_type": "display_data"
    }
   ],
   "source": [
    "matrix = np.zeros((n, m))\n",
    "entrada = matrix\n",
    "entrada[0, 1] = 1\n",
    "entrada[1, 1] = 1\n",
    "salida = move(entrada)\n",
    "salida_plot = plot_matrix(salida)\n",
    "entrada_plot = plot_matrix(entrada)\n",
    "entrada_salida = plot_side_by_side(entrada_plot, salida_plot)\n",
    "plt.savefig('Graphics/sand2.pdf', bbox_inches = 'tight')"
   ]
  },
  {
   "cell_type": "code",
   "execution_count": 171,
   "metadata": {},
   "outputs": [
    {
     "data": {
      "image/png": "[encoded data removed]",
      "text/plain": [
       "<Figure size 640x480 with 2 Axes>"
      ]
     },
     "metadata": {},
     "output_type": "display_data"
    }
   ],
   "source": [
    "matrix = np.zeros((n, m))\n",
    "entrada = matrix\n",
    "entrada[0, 1] = 1\n",
    "entrada[1, 1] = 1\n",
    "entrada[1, 0] = 1\n",
    "salida = move(entrada)\n",
    "salida_plot = plot_matrix(salida)\n",
    "entrada_plot = plot_matrix(entrada)\n",
    "entrada_salida = plot_side_by_side(entrada_plot, salida_plot)\n",
    "plt.savefig('Graphics/sand3.pdf', bbox_inches = 'tight')"
   ]
  },
  {
   "cell_type": "code",
   "execution_count": 172,
   "metadata": {},
   "outputs": [
    {
     "data": {
      "image/png": "[encoded data removed]",
      "text/plain": [
       "<Figure size 640x480 with 2 Axes>"
      ]
     },
     "metadata": {},
     "output_type": "display_data"
    }
   ],
   "source": [
    "matrix = np.zeros((n, m))\n",
    "entrada = matrix\n",
    "entrada[0, 1] = 1\n",
    "entrada[1, 1] = 1\n",
    "entrada[1, 0] = 1\n",
    "entrada[1, 2] = 1\n",
    "salida = move(entrada)\n",
    "salida_plot = plot_matrix(salida)\n",
    "entrada_plot = plot_matrix(entrada)\n",
    "entrada_salida = plot_side_by_side(entrada_plot, salida_plot)\n",
    "plt.savefig('Graphics/sand4.pdf', bbox_inches = 'tight')"
   ]
  },
  {
   "cell_type": "code",
   "execution_count": 173,
   "metadata": {},
   "outputs": [
    {
     "data": {
      "image/png": "[encoded data removed]",
      "text/plain": [
       "<Figure size 640x480 with 2 Axes>"
      ]
     },
     "metadata": {},
     "output_type": "display_data"
    }
   ],
   "source": [
    "matrix = np.zeros((n, m))\n",
    "entrada = matrix\n",
    "entrada[0, 1] = 1\n",
    "entrada[1, 1] = 1\n",
    "salida = move(entrada)\n",
    "salida_plot = plot_matrix(salida)\n",
    "entrada_plot = plot_matrix(entrada)\n",
    "entrada_salida = plot_side_by_side(entrada_plot, salida_plot)\n",
    "plt.savefig('Graphics/sand2.pdf', bbox_inches = 'tight')"
   ]
  },
  {
   "cell_type": "code",
   "execution_count": 174,
   "metadata": {},
   "outputs": [
    {
     "data": {
      "image/png": "[encoded data removed]",
      "text/plain": [
       "<Figure size 640x480 with 2 Axes>"
      ]
     },
     "metadata": {},
     "output_type": "display_data"
    }
   ],
   "source": [
    "matrix = np.zeros((n, m))\n",
    "entrada = matrix\n",
    "entrada[0, 1] = 1\n",
    "entrada[1, 1] = 1\n",
    "entrada[1, 0] = 1\n",
    "salida = move(entrada)\n",
    "salida_plot = plot_matrix(salida)\n",
    "entrada_plot = plot_matrix(entrada)\n",
    "entrada_salida = plot_side_by_side(entrada_plot, salida_plot)\n",
    "plt.savefig('Graphics/sand3.pdf', bbox_inches = 'tight')"
   ]
  },
  {
   "cell_type": "code",
   "execution_count": 175,
   "metadata": {},
   "outputs": [
    {
     "data": {
      "image/png": "[encoded data removed]",
      "text/plain": [
       "<Figure size 640x480 with 2 Axes>"
      ]
     },
     "metadata": {},
     "output_type": "display_data"
    }
   ],
   "source": [
    "matrix = np.zeros((n, m))\n",
    "entrada = matrix\n",
    "entrada[0, 1] = 1\n",
    "entrada[1, 1] = 1\n",
    "entrada[1, 0] = 1\n",
    "entrada[1, 2] = 1\n",
    "salida = move(entrada)\n",
    "salida_plot = plot_matrix(salida)\n",
    "entrada_plot = plot_matrix(entrada)\n",
    "entrada_salida = plot_side_by_side(entrada_plot, salida_plot)\n",
    "plt.savefig('Graphics/sand4.pdf', bbox_inches = 'tight')"
   ]
  },
  {
   "cell_type": "code",
   "execution_count": 176,
   "metadata": {},
   "outputs": [
    {
     "name": "stdout",
     "output_type": "stream",
     "text": [
      "Matriz volteada horizontalmente:\n",
      "[[3 2 1]\n",
      " [6 5 4]\n",
      " [9 8 7]]\n",
      "\n",
      "Matriz volteada verticalmente:\n",
      "[[9 8 7]\n",
      " [6 5 4]\n",
      " [3 2 1]]\n"
     ]
    }
   ],
   "source": [
    "matrix = np.array([[1, 2, 3],\n",
    "                   [4, 5, 6],\n",
    "                   [7, 8, 9]])\n",
    "\n",
    "matrix = np.flip(matrix, axis=1)\n",
    "print(\"Matriz volteada horizontalmente:\")\n",
    "print(matrix)\n",
    "\n",
    "# Voltear la matriz verticalmente\n",
    "matrix = np.flip(matrix, axis=0)\n",
    "print(\"\\nMatriz volteada verticalmente:\")\n",
    "print(matrix)"
   ]
  },
  {
   "cell_type": "code",
   "execution_count": 177,
   "metadata": {},
   "outputs": [
    {
     "data": {
      "image/png": "[encoded data removed]",
      "text/plain": [
       "<Figure size 640x480 with 2 Axes>"
      ]
     },
     "metadata": {},
     "output_type": "display_data"
    }
   ],
   "source": [
    "matrix = np.zeros((5, 5))\n",
    "entrada = matrix\n",
    "entrada[3, 3] = 3\n",
    "entrada[3, 2] = 3\n",
    "entrada[2, 3] = 3\n",
    "entrada[1, 1] = 3\n",
    "entrada[1, 2] = 3\n",
    "entrada[2, 1] = 3\n",
    "\n",
    "salida = move(entrada)\n",
    "salida_plot = plot_matrix(salida)\n",
    "entrada_plot = plot_matrix(entrada)\n",
    "entrada_salida = plot_side_by_side(entrada_plot, salida_plot)\n",
    "plt.savefig('Graphics/rock1.pdf', bbox_inches = 'tight')"
   ]
  }
 ],
 "metadata": {
  "kernelspec": {
   "display_name": "simulations",
   "language": "python",
   "name": "python3"
  },
  "language_info": {
   "codemirror_mode": {
    "name": "ipython",
    "version": 3
   },
   "file_extension": ".py",
   "mimetype": "text/x-python",
   "name": "python",
   "nbconvert_exporter": "python",
   "pygments_lexer": "ipython3",
   "version": "3.11.5"
  }
 },
 "nbformat": 4,
 "nbformat_minor": 2
}
